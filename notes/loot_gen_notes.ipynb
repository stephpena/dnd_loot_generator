{
 "cells": [
  {
   "cell_type": "code",
   "execution_count": 1,
   "metadata": {
    "collapsed": true
   },
   "outputs": [],
   "source": [
    "import numpy as np"
   ]
  },
  {
   "cell_type": "code",
   "execution_count": 58,
   "metadata": {
    "collapsed": false
   },
   "outputs": [],
   "source": [
    "def roll_die(die_num):\n",
    "    die_num = die_num + 1\n",
    "    roll = np.random.randint(1,die_num)\n",
    "    return roll\n",
    "def roll_dice(dice_num, die_num):\n",
    "    die_num = die_num + 1\n",
    "    rolls = np.random.randint(1,die_num,size=dice_num)\n",
    "    return rolls"
   ]
  },
  {
   "cell_type": "code",
   "execution_count": 97,
   "metadata": {
    "collapsed": false
   },
   "outputs": [],
   "source": [
    "def individual_treasure(challenge_rating):\n",
    "    roll = roll_die(100)\n",
    "    if challenge_rating <= 4:\n",
    "        if roll <= 30:\n",
    "            return str(roll_dice(5,6).sum()) + ' CP'\n",
    "        elif roll > 30 and roll <= 60:\n",
    "            return str(roll_dice(4,6).sum()) + ' SP'\n",
    "        elif roll > 60 and roll <= 70:\n",
    "            return str(roll_dice(3,6).sum()) + ' EP'\n",
    "        elif roll > 70 and roll <= 95:\n",
    "            return str(roll_dice(3,6).sum()) + ' GP'\n",
    "        else:\n",
    "            return str(roll_dice(1,6).sum()) + ' PP'\n",
    "    elif challenge_rating > 4 and challenge_rating <= 10:\n",
    "        if roll <= 30:\n",
    "            return str(roll_dice(4,6).sum() * 100) + ' CP and ' + str(roll_dice(1,6).sum() * 10) + ' EP'\n",
    "        elif roll > 30 and roll <= 60:\n",
    "            return str(roll_dice(6,6).sum() * 10) + ' SP and ' + str(roll_dice(2,6).sum() * 10) + ' GP'\n",
    "        elif roll > 60 and roll <= 70:\n",
    "            return str(roll_dice(3,6).sum() * 10) + ' EP and ' + str(roll_dice(2,6).sum() * 10) + ' GP'\n",
    "        elif roll > 70 and roll <= 95:\n",
    "            return str(roll_dice(4,6).sum() * 10) + ' GP'\n",
    "        else:\n",
    "            return str(roll_dice(2,6).sum() * 10) + ' GP and ' + str(roll_dice(2,6).sum()) + ' PP'\n",
    "    elif challenge_rating > 10 and challenge_rating <= 16:\n",
    "        if roll <= 20:\n",
    "            return str(roll_dice(4,6).sum() * 100) + ' SP and ' + str(roll_dice(1,6).sum() * 100) + ' GP'\n",
    "        elif roll > 20 and roll <= 35:\n",
    "            return str(roll_dice(1,6).sum() * 100) + ' EP and ' + str(roll_dice(1,6).sum() * 100) + ' GP'\n",
    "        elif roll > 35 and roll <= 75:\n",
    "            return str(roll_dice(2,6).sum() * 100) + ' GP and ' + str(roll_dice(1,6).sum() * 10) + ' PP'\n",
    "        else:\n",
    "            return str(roll_dice(2,6).sum() * 100) + ' GP and ' + str(roll_dice(2,6).sum() * 10) + ' PP'\n",
    "    else:\n",
    "        if roll <= 30:\n",
    "            return str(roll_dice(2,6).sum() * 100) + ' EP and ' + str(roll_dice(8,6).sum() * 100) + ' GP'\n",
    "        elif roll > 30 and roll <= 60:\n",
    "            return str(roll_dice(1,6).sum() * 100) + ' GP and ' + str(roll_dice(1,6).sum() * 10) + ' PP'\n",
    "        else:\n",
    "            return str(roll_dice(1,6).sum() * 100) + ' GP and ' + str(roll_dice(2,6).sum() * 10) + ' PP'"
   ]
  },
  {
   "cell_type": "code",
   "execution_count": 115,
   "metadata": {
    "collapsed": false
   },
   "outputs": [
    {
     "data": {
      "text/plain": [
       "'900 GP and 60 PP'"
      ]
     },
     "execution_count": 115,
     "metadata": {},
     "output_type": "execute_result"
    }
   ],
   "source": [
    "individual_treasure(15)"
   ]
  },
  {
   "cell_type": "code",
   "execution_count": null,
   "metadata": {
    "collapsed": true
   },
   "outputs": [],
   "source": []
  }
 ],
 "metadata": {
  "anaconda-cloud": {},
  "kernelspec": {
   "display_name": "Python [conda root]",
   "language": "python",
   "name": "conda-root-py"
  },
  "language_info": {
   "codemirror_mode": {
    "name": "ipython",
    "version": 2
   },
   "file_extension": ".py",
   "mimetype": "text/x-python",
   "name": "python",
   "nbconvert_exporter": "python",
   "pygments_lexer": "ipython2",
   "version": "2.7.12"
  }
 },
 "nbformat": 4,
 "nbformat_minor": 1
}
